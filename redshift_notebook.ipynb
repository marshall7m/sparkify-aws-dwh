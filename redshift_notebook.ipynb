{
 "cells": [
  {
   "cell_type": "markdown",
   "metadata": {
    "toc": true
   },
   "source": [
    "<h1>Table of Contents<span class=\"tocSkip\"></span></h1>\n",
    "<div class=\"toc\"><ul class=\"toc-item\"><li><span><a href=\"#RedShift-Notebook\" data-toc-modified-id=\"RedShift-Notebook-1\"><span class=\"toc-item-num\">1&nbsp;&nbsp;</span>RedShift Notebook</a></span></li><li><span><a href=\"#Create-Role\" data-toc-modified-id=\"Create-Role-2\"><span class=\"toc-item-num\">2&nbsp;&nbsp;</span>Create Role</a></span></li><li><span><a href=\"#Create-Cluster\" data-toc-modified-id=\"Create-Cluster-3\"><span class=\"toc-item-num\">3&nbsp;&nbsp;</span>Create Cluster</a></span></li><li><span><a href=\"#DO-NOT-RUN-CELL-BELOW-UNLESS-ClusterStatus-=-'Available'\" data-toc-modified-id=\"DO-NOT-RUN-CELL-BELOW-UNLESS-ClusterStatus-=-'Available'-4\"><span class=\"toc-item-num\">4&nbsp;&nbsp;</span>DO NOT RUN CELL BELOW UNLESS ClusterStatus = 'Available'</a></span></li><li><span><a href=\"#Copy-and-Paste-Endpoint-and-ARN-into-dwh.cfg-file\" data-toc-modified-id=\"Copy-and-Paste-Endpoint-and-ARN-into-dwh.cfg-file-5\"><span class=\"toc-item-num\">5&nbsp;&nbsp;</span>Copy and Paste Endpoint and ARN into dwh.cfg file</a></span></li><li><span><a href=\"#Open-TCP-Port\" data-toc-modified-id=\"Open-TCP-Port-6\"><span class=\"toc-item-num\">6&nbsp;&nbsp;</span>Open TCP Port</a></span></li><li><span><a href=\"#Validate-ETL-Pipeline\" data-toc-modified-id=\"Validate-ETL-Pipeline-7\"><span class=\"toc-item-num\">7&nbsp;&nbsp;</span>Validate ETL Pipeline</a></span><ul class=\"toc-item\"><li><span><a href=\"#Staging-Tables\" data-toc-modified-id=\"Staging-Tables-7.1\"><span class=\"toc-item-num\">7.1&nbsp;&nbsp;</span>Staging Tables</a></span><ul class=\"toc-item\"><li><span><a href=\"#Staging-Events-Table\" data-toc-modified-id=\"Staging-Events-Table-7.1.1\"><span class=\"toc-item-num\">7.1.1&nbsp;&nbsp;</span>Staging Events Table</a></span></li><li><span><a href=\"#Staging-Songs-Table\" data-toc-modified-id=\"Staging-Songs-Table-7.1.2\"><span class=\"toc-item-num\">7.1.2&nbsp;&nbsp;</span>Staging Songs Table</a></span></li></ul></li><li><span><a href=\"#Fact-and-Dimension-Tables\" data-toc-modified-id=\"Fact-and-Dimension-Tables-7.2\"><span class=\"toc-item-num\">7.2&nbsp;&nbsp;</span>Fact and Dimension Tables</a></span><ul class=\"toc-item\"><li><span><a href=\"#Dimension-Table:-Time\" data-toc-modified-id=\"Dimension-Table:-Time-7.2.1\"><span class=\"toc-item-num\">7.2.1&nbsp;&nbsp;</span>Dimension Table: Time</a></span></li><li><span><a href=\"#Dimension-Table:-Artists\" data-toc-modified-id=\"Dimension-Table:-Artists-7.2.2\"><span class=\"toc-item-num\">7.2.2&nbsp;&nbsp;</span>Dimension Table: Artists</a></span></li><li><span><a href=\"#Dimension-Table:-Songs\" data-toc-modified-id=\"Dimension-Table:-Songs-7.2.3\"><span class=\"toc-item-num\">7.2.3&nbsp;&nbsp;</span>Dimension Table: Songs</a></span></li><li><span><a href=\"#Dimension-Table:-Users\" data-toc-modified-id=\"Dimension-Table:-Users-7.2.4\"><span class=\"toc-item-num\">7.2.4&nbsp;&nbsp;</span>Dimension Table: Users</a></span></li><li><span><a href=\"#Fact-Table:-Songplay\" data-toc-modified-id=\"Fact-Table:-Songplay-7.2.5\"><span class=\"toc-item-num\">7.2.5&nbsp;&nbsp;</span>Fact Table: Songplay</a></span></li></ul></li></ul></li><li><span><a href=\"#Delete-Cluster-to-Elimate-Unnecessary-AWS-Charges\" data-toc-modified-id=\"Delete-Cluster-to-Elimate-Unnecessary-AWS-Charges-8\"><span class=\"toc-item-num\">8&nbsp;&nbsp;</span>Delete Cluster to Elimate Unnecessary AWS Charges</a></span></li><li><span><a href=\"#Detach-and-Delete-Role\" data-toc-modified-id=\"Detach-and-Delete-Role-9\"><span class=\"toc-item-num\">9&nbsp;&nbsp;</span>Detach and Delete Role</a></span></li></ul></div>"
   ]
  },
  {
   "cell_type": "markdown",
   "metadata": {},
   "source": [
    "# RedShift Notebook"
   ]
  },
  {
   "cell_type": "markdown",
   "metadata": {},
   "source": [
    "Notebook Purpose:\n",
    "- Initiate RedShift cluster and role (with attached policy)\n",
    "- Validate table creation (create_tables.py) and ETL pipeline (etl.py)\n",
    "- Delete RedShift cluster and role"
   ]
  },
  {
   "cell_type": "code",
   "execution_count": null,
   "metadata": {},
   "outputs": [],
   "source": [
    "import pandas as pd\n",
    "import boto3\n",
    "import json"
   ]
  },
  {
   "cell_type": "markdown",
   "metadata": {},
   "source": [
    "The cell below extracts values from the dwh.cfg file to be used for RedShift cluster and Postgres database configuration"
   ]
  },
  {
   "cell_type": "code",
   "execution_count": null,
   "metadata": {},
   "outputs": [],
   "source": [
    "import configparser\n",
    "config = configparser.ConfigParser()\n",
    "config.read_file(open('dwh.cfg'))\n",
    "\n",
    "KEY                    = config.get('AWS','KEY')\n",
    "SECRET                 = config.get('AWS','SECRET')\n",
    "\n",
    "DWH_CLUSTER_TYPE       = config.get(\"DWH\",\"DWH_CLUSTER_TYPE\")\n",
    "DWH_NUM_NODES          = config.get(\"DWH\",\"DWH_NUM_NODES\")\n",
    "DWH_NODE_TYPE          = config.get(\"DWH\",\"DWH_NODE_TYPE\")\n",
    "\n",
    "DWH_CLUSTER_IDENTIFIER = config.get(\"CLUSTER\",\"DWH_CLUSTER_IDENTIFIER\")\n",
    "DWH_DB_NAME                 = config.get(\"CLUSTER\",\"DWH_DB_NAME\")\n",
    "DWH_DB_USER            = config.get(\"CLUSTER\",\"DWH_DB_USER\")\n",
    "DWH_DB_PASSWORD        = config.get(\"CLUSTER\",\"DWH_DB_PASSWORD\")\n",
    "DWH_PORT               = config.get(\"CLUSTER\",\"DWH_DB_PORT\")\n",
    "\n",
    "DWH_IAM_ROLE_NAME      = config.get(\"CLUSTER\", \"DWH_IAM_ROLE_NAME\")\n",
    "\n",
    "(DWH_DB_USER, DWH_DB_PASSWORD, DWH_DB_NAME)\n",
    "\n",
    "pd.DataFrame({\"Param\":\n",
    "                  [\"DWH_CLUSTER_TYPE\", \"DWH_NUM_NODES\", \"DWH_NODE_TYPE\", \"DWH_CLUSTER_IDENTIFIER\", \"DWH_DB_NAME\", \"DWH_DB_USER\", \"DWH_DB_PASSWORD\", \"DWH_PORT\", \"DWH_IAM_ROLE_NAME\"],\n",
    "              \"Value\":\n",
    "                  [DWH_CLUSTER_TYPE, DWH_NUM_NODES, DWH_NODE_TYPE, DWH_CLUSTER_IDENTIFIER, DWH_DB_NAME, DWH_DB_USER, DWH_DB_PASSWORD, DWH_PORT, DWH_IAM_ROLE_NAME]\n",
    "             })"
   ]
  },
  {
   "cell_type": "code",
   "execution_count": null,
   "metadata": {},
   "outputs": [],
   "source": [
    "#initiate aws clients\n",
    "\n",
    "ec2 = boto3.resource('ec2',\n",
    "                       region_name=\"us-west-2\",\n",
    "                       aws_access_key_id=KEY,\n",
    "                       aws_secret_access_key=SECRET\n",
    "                    )\n",
    "\n",
    "s3 = boto3.resource('s3',\n",
    "                       region_name=\"us-west-2\",\n",
    "                       aws_access_key_id=KEY,\n",
    "                       aws_secret_access_key=SECRET\n",
    "                   )\n",
    "\n",
    "iam = boto3.client('iam',aws_access_key_id=KEY,\n",
    "                     aws_secret_access_key=SECRET,\n",
    "                     region_name='us-west-2'\n",
    "                  )\n",
    "\n",
    "redshift = boto3.client('redshift',\n",
    "                       region_name=\"us-west-2\",\n",
    "                       aws_access_key_id=KEY,\n",
    "                       aws_secret_access_key=SECRET\n",
    "                       )"
   ]
  },
  {
   "cell_type": "code",
   "execution_count": null,
   "metadata": {},
   "outputs": [],
   "source": [
    "# access udacity's s3 bucket used for data extraction\n",
    "bucket = s3.Bucket('udacity-dend')"
   ]
  },
  {
   "cell_type": "code",
   "execution_count": null,
   "metadata": {},
   "outputs": [],
   "source": [
    "# sample paths to log json files used for extraction\n",
    "log_data_files = [filename.key for filename in bucket.objects.filter(Prefix='log-data')]\n",
    "log_data_files[:10]"
   ]
  },
  {
   "cell_type": "code",
   "execution_count": null,
   "metadata": {},
   "outputs": [],
   "source": [
    "# sample paths to song json files used for extraction\n",
    "song_data_files = [filename.key for filename in bucket.objects.filter(Prefix='song-data/A/A')]\n",
    "song_data_files[:10]"
   ]
  },
  {
   "cell_type": "markdown",
   "metadata": {},
   "source": [
    "# Create Role"
   ]
  },
  {
   "cell_type": "code",
   "execution_count": null,
   "metadata": {},
   "outputs": [],
   "source": [
    "#creates role for redshift cluster\n",
    "try:\n",
    "    dwhRole = iam.create_role(\n",
    "        Path='/',\n",
    "        RoleName=DWH_IAM_ROLE_NAME,\n",
    "        Description = \"Allows Redshift clusters to call AWS services on your behalf.\",\n",
    "        AssumeRolePolicyDocument=json.dumps(\n",
    "            {\n",
    "                'Statement': [{'Action': 'sts:AssumeRole',\n",
    "                               'Effect': 'Allow',\n",
    "                               'Principal': {'Service': 'redshift.amazonaws.com'}}],\n",
    "                'Version': '2012-10-17'\n",
    "            })\n",
    "    )\n",
    "except Exception as e:\n",
    "    print(e)"
   ]
  },
  {
   "cell_type": "code",
   "execution_count": null,
   "metadata": {},
   "outputs": [],
   "source": [
    "#attaches s3 read only policy to role\n",
    "iam.attach_role_policy(\n",
    "    RoleName=DWH_IAM_ROLE_NAME,\n",
    "    PolicyArn=\"arn:aws:iam::aws:policy/AmazonS3ReadOnlyAccess\")['ResponseMetadata']['HTTPStatusCode']"
   ]
  },
  {
   "cell_type": "code",
   "execution_count": null,
   "metadata": {},
   "outputs": [],
   "source": [
    "roleArn = iam.get_role(RoleName=DWH_IAM_ROLE_NAME)['Role']['Arn']"
   ]
  },
  {
   "cell_type": "markdown",
   "metadata": {},
   "source": [
    "# Create Cluster"
   ]
  },
  {
   "cell_type": "code",
   "execution_count": null,
   "metadata": {},
   "outputs": [],
   "source": [
    "try:\n",
    "    response = redshift.create_cluster(        \n",
    "        ClusterType=DWH_CLUSTER_TYPE,\n",
    "        NodeType=DWH_NODE_TYPE,\n",
    "        NumberOfNodes=int(DWH_NUM_NODES),\n",
    "\n",
    "        #Identifiers & Credentials\n",
    "        DBName=DWH_DB_NAME,\n",
    "        ClusterIdentifier=DWH_CLUSTER_IDENTIFIER,\n",
    "        MasterUsername=DWH_DB_USER,\n",
    "        MasterUserPassword=DWH_DB_PASSWORD,\n",
    "        \n",
    "        #Roles (for s3 access)\n",
    "        IamRoles=[roleArn]  \n",
    "    )\n",
    "except Exception as e:\n",
    "    print(e)"
   ]
  },
  {
   "cell_type": "code",
   "execution_count": null,
   "metadata": {},
   "outputs": [],
   "source": [
    "def prettyRedshiftProps(props):\n",
    "    \"\"\"Displays exclusive RedShift cluster information in a pretty pandas dataframe\n",
    "    \n",
    "    Arg:\n",
    "    props -- All RedShift cluster information\n",
    "    \n",
    "    \"\"\"\n",
    "    \n",
    "    pd.set_option('display.max_colwidth', -1)\n",
    "    keysToShow = [\"ClusterIdentifier\", \"NodeType\", \"ClusterStatus\", \"MasterUsername\", \"DBName\", \"Endpoint\", \"NumberOfNodes\", 'VpcId']\n",
    "    x = [(k, v) for k,v in props.items() if k in keysToShow]\n",
    "    return pd.DataFrame(data=x, columns=[\"Key\", \"Value\"])\n",
    "\n",
    "myClusterProps = redshift.describe_clusters(ClusterIdentifier=DWH_CLUSTER_IDENTIFIER)['Clusters'][0]\n",
    "prettyRedshiftProps(myClusterProps)"
   ]
  },
  {
   "cell_type": "markdown",
   "metadata": {},
   "source": [
    "# DO NOT RUN CELL BELOW UNLESS ClusterStatus = 'Available'\n",
    "If do, then recreate cluster"
   ]
  },
  {
   "cell_type": "code",
   "execution_count": null,
   "metadata": {},
   "outputs": [],
   "source": [
    "DWH_ENDPOINT = myClusterProps['Endpoint']['Address']\n",
    "DWH_ROLE_ARN = myClusterProps['IamRoles'][0]['IamRoleArn']"
   ]
  },
  {
   "cell_type": "markdown",
   "metadata": {},
   "source": [
    "# Copy and Paste Endpoint and ARN into dwh.cfg file"
   ]
  },
  {
   "cell_type": "code",
   "execution_count": null,
   "metadata": {},
   "outputs": [],
   "source": [
    "print('Endpoint: ', DWH_ENDPOINT)\n",
    "print('ARN: ', DWH_ROLE_ARN)"
   ]
  },
  {
   "cell_type": "markdown",
   "metadata": {},
   "source": [
    "# Open TCP Port"
   ]
  },
  {
   "cell_type": "code",
   "execution_count": null,
   "metadata": {},
   "outputs": [],
   "source": [
    "#open tcp port to access cluster endpoint\n",
    "\n",
    "try:\n",
    "    #virtual private cloud where cluster is located\n",
    "    vpc = ec2.Vpc(id=myClusterProps['VpcId'])\n",
    "    #default security groups from vpc\n",
    "    defaultSg = list(vpc.security_groups.all())[0]\n",
    "    print(defaultSg)\n",
    "    \n",
    "    #authorize traffic from any IP using TCP from specified port\n",
    "    defaultSg.authorize_ingress(\n",
    "        GroupName='default',\n",
    "        CidrIp='0.0.0.0/0',\n",
    "        IpProtocol='TCP',\n",
    "        FromPort=int(DWH_PORT),\n",
    "        ToPort=int(DWH_PORT)\n",
    "    )\n",
    "except Exception as e:\n",
    "    print(e)"
   ]
  },
  {
   "cell_type": "markdown",
   "metadata": {},
   "source": [
    "# Validate ETL Pipeline"
   ]
  },
  {
   "cell_type": "code",
   "execution_count": null,
   "metadata": {},
   "outputs": [],
   "source": [
    "#sql magic to execute sql queries cells\n",
    "%load_ext sql"
   ]
  },
  {
   "cell_type": "code",
   "execution_count": null,
   "metadata": {},
   "outputs": [],
   "source": [
    "conn_string=\"postgresql://{}:{}@{}:{}/{}\".format(DWH_DB_USER, DWH_DB_PASSWORD, DWH_ENDPOINT, DWH_PORT, DWH_DB_NAME)\n",
    "print(conn_string)\n",
    "%sql $conn_string"
   ]
  },
  {
   "cell_type": "markdown",
   "metadata": {},
   "source": [
    "## Staging Tables\n",
    "\n",
    "The below tables are samples of the staging events and songs tables. "
   ]
  },
  {
   "cell_type": "markdown",
   "metadata": {},
   "source": [
    "### Staging Events Table"
   ]
  },
  {
   "cell_type": "code",
   "execution_count": null,
   "metadata": {},
   "outputs": [],
   "source": [
    "%sql select * FROM staging_events LIMIT 5;"
   ]
  },
  {
   "cell_type": "markdown",
   "metadata": {},
   "source": [
    "### Staging Songs Table"
   ]
  },
  {
   "cell_type": "code",
   "execution_count": null,
   "metadata": {},
   "outputs": [],
   "source": [
    "%sql select * FROM staging_songs LIMIT 5;"
   ]
  },
  {
   "cell_type": "markdown",
   "metadata": {},
   "source": [
    "## Fact and Dimension Tables"
   ]
  },
  {
   "cell_type": "markdown",
   "metadata": {},
   "source": [
    "The tables below are samples of the fact and dimension tables and their respective table count. "
   ]
  },
  {
   "cell_type": "markdown",
   "metadata": {},
   "source": [
    "### Dimension Table: Time"
   ]
  },
  {
   "cell_type": "code",
   "execution_count": null,
   "metadata": {},
   "outputs": [],
   "source": [
    "%sql SELECT COUNT(*) FROM dim_time;"
   ]
  },
  {
   "cell_type": "code",
   "execution_count": null,
   "metadata": {},
   "outputs": [],
   "source": [
    "%sql SELECT * FROM dim_time LIMIT 5;"
   ]
  },
  {
   "cell_type": "markdown",
   "metadata": {},
   "source": [
    "### Dimension Table: Artists\n"
   ]
  },
  {
   "cell_type": "code",
   "execution_count": null,
   "metadata": {},
   "outputs": [],
   "source": [
    "%sql SELECT COUNT(*) FROM dim_artists;"
   ]
  },
  {
   "cell_type": "code",
   "execution_count": null,
   "metadata": {},
   "outputs": [],
   "source": [
    "%sql SELECT * FROM dim_artists LIMIT 5;"
   ]
  },
  {
   "cell_type": "markdown",
   "metadata": {},
   "source": [
    "### Dimension Table: Songs\n"
   ]
  },
  {
   "cell_type": "code",
   "execution_count": null,
   "metadata": {},
   "outputs": [],
   "source": [
    "%sql SELECT COUNT(*) FROM dim_songs;"
   ]
  },
  {
   "cell_type": "code",
   "execution_count": null,
   "metadata": {},
   "outputs": [],
   "source": [
    "%sql SELECT * FROM dim_songs LIMIT 5;"
   ]
  },
  {
   "cell_type": "markdown",
   "metadata": {},
   "source": [
    "### Dimension Table: Users\n"
   ]
  },
  {
   "cell_type": "code",
   "execution_count": null,
   "metadata": {},
   "outputs": [],
   "source": [
    "%sql SELECT COUNT(*) FROM dim_users;"
   ]
  },
  {
   "cell_type": "code",
   "execution_count": null,
   "metadata": {},
   "outputs": [],
   "source": [
    "%sql SELECT * FROM dim_users LIMIT 5;"
   ]
  },
  {
   "cell_type": "markdown",
   "metadata": {},
   "source": [
    "### Fact Table: Songplay\n"
   ]
  },
  {
   "cell_type": "code",
   "execution_count": null,
   "metadata": {},
   "outputs": [],
   "source": [
    "%sql SELECT COUNT(*) FROM fact_songplay;"
   ]
  },
  {
   "cell_type": "code",
   "execution_count": null,
   "metadata": {},
   "outputs": [],
   "source": [
    "%sql SELECT * FROM fact_songplay LIMIT 5;"
   ]
  },
  {
   "cell_type": "markdown",
   "metadata": {},
   "source": [
    "# Delete Cluster to Elimate Unnecessary AWS Charges"
   ]
  },
  {
   "cell_type": "code",
   "execution_count": null,
   "metadata": {},
   "outputs": [],
   "source": [
    "redshift.delete_cluster(ClusterIdentifier=DWH_CLUSTER_IDENTIFIER, SkipFinalClusterSnapshot=True)"
   ]
  },
  {
   "cell_type": "code",
   "execution_count": null,
   "metadata": {},
   "outputs": [],
   "source": [
    "try:\n",
    "    myClusterProps = redshift.describe_clusters(ClusterIdentifier=DWH_CLUSTER_IDENTIFIER)['Clusters'][0]\n",
    "except Exception as e:\n",
    "    print('Cluster Deleted')\n",
    "    print('\\nError: ', e)\n",
    "\n",
    "prettyRedshiftProps(myClusterProps)"
   ]
  },
  {
   "cell_type": "markdown",
   "metadata": {},
   "source": [
    "# Detach and Delete Role"
   ]
  },
  {
   "cell_type": "code",
   "execution_count": null,
   "metadata": {},
   "outputs": [],
   "source": [
    "try:\n",
    "    iam.detach_role_policy(RoleName=DWH_IAM_ROLE_NAME, PolicyArn=\"arn:aws:iam::aws:policy/AmazonS3ReadOnlyAccess\")\n",
    "    iam.delete_role(RoleName=DWH_IAM_ROLE_NAME)\n",
    "except Exception as e:\n",
    "    print('IAM Role Deleted')\n",
    "    print('\\nError: ', e)"
   ]
  }
 ],
 "metadata": {
  "kernelspec": {
   "display_name": "Python 3",
   "language": "python",
   "name": "python3"
  },
  "language_info": {
   "codemirror_mode": {
    "name": "ipython",
    "version": 3
   },
   "file_extension": ".py",
   "mimetype": "text/x-python",
   "name": "python",
   "nbconvert_exporter": "python",
   "pygments_lexer": "ipython3",
   "version": "3.7.2"
  },
  "toc": {
   "base_numbering": 1,
   "nav_menu": {},
   "number_sections": true,
   "sideBar": true,
   "skip_h1_title": false,
   "title_cell": "Table of Contents",
   "title_sidebar": "Contents",
   "toc_cell": true,
   "toc_position": {},
   "toc_section_display": true,
   "toc_window_display": false
  },
  "varInspector": {
   "cols": {
    "lenName": 16,
    "lenType": 16,
    "lenVar": 40
   },
   "kernels_config": {
    "python": {
     "delete_cmd_postfix": "",
     "delete_cmd_prefix": "del ",
     "library": "var_list.py",
     "varRefreshCmd": "print(var_dic_list())"
    },
    "r": {
     "delete_cmd_postfix": ") ",
     "delete_cmd_prefix": "rm(",
     "library": "var_list.r",
     "varRefreshCmd": "cat(var_dic_list()) "
    }
   },
   "types_to_exclude": [
    "module",
    "function",
    "builtin_function_or_method",
    "instance",
    "_Feature"
   ],
   "window_display": false
  }
 },
 "nbformat": 4,
 "nbformat_minor": 4
}
